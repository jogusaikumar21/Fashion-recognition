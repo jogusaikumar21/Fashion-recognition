{
 "cells": [
  {
   "cell_type": "code",
   "execution_count": 49,
   "id": "59cb5161",
   "metadata": {},
   "outputs": [
    {
     "name": "stdout",
     "output_type": "stream",
     "text": [
      "x_train shape: (60000, 28, 28) y_train shape: (60000,)\n"
     ]
    }
   ],
   "source": [
    "!pip install -q -U tensorflow>=1.8.0\n",
    "import tensorflow as tf\n",
    "import numpy as np\n",
    "import matplotlib.pyplot as plt\n",
    "(x_train,y_train),(x_test,y_test)=tf.keras.datasets.fashion_mnist.load_data()\n",
    "print(\"x_train shape:\",x_train.shape,\"y_train shape:\",y_train.shape)"
   ]
  },
  {
   "cell_type": "code",
   "execution_count": 50,
   "id": "a7f091e6",
   "metadata": {},
   "outputs": [
    {
     "name": "stdout",
     "output_type": "stream",
     "text": [
      "x_train shape: (60000, 28, 28) y_train shape: (60000,)\n",
      "60000 trainset\n",
      "10000 testset\n",
      "y =2 Pullover\n"
     ]
    },
    {
     "data": {
      "text/plain": [
       "<matplotlib.image.AxesImage at 0x1c4a5b06730>"
      ]
     },
     "execution_count": 50,
     "metadata": {},
     "output_type": "execute_result"
    },
    {
     "data": {
      "image/png": "[encoded data removed]",
      "text/plain": [
       "<Figure size 432x288 with 1 Axes>"
      ]
     },
     "metadata": {
      "needs_background": "light"
     },
     "output_type": "display_data"
    }
   ],
   "source": [
    "print(\"x_train shape:\",x_train.shape,\"y_train shape:\",y_train.shape)\n",
    "print(x_train.shape[0],\"trainset\")\n",
    "print(x_test.shape[0],\"testset\")\n",
    "fashion_mnist_labels=[\"T-shirt/Top\",\"Trouser\",\"Pullover\",\"Dress\",\"Coat\",\"Sandal\",\"shirt\",\"Sneaker\",\n",
    "                       \"Bag\",\"Ankle boot\"]\n",
    "img_index=5;\n",
    "label_index=y_train[img_index]\n",
    "print(\"y =\"+str(label_index)+\" \"+(fashion_mnist_labels[label_index]))\n",
    "plt.imshow(x_train[img_index])"
   ]
  },
  {
   "cell_type": "code",
   "execution_count": 51,
   "id": "85d1b2e4",
   "metadata": {},
   "outputs": [],
   "source": [
    "x_train=x_train.astype(\"float32\")/255\n",
    "x_test=x_test.astype('float32')/255"
   ]
  },
  {
   "cell_type": "code",
   "execution_count": 52,
   "id": "bb24976a",
   "metadata": {},
   "outputs": [
    {
     "name": "stdout",
     "output_type": "stream",
     "text": [
      "Number of train data - 60000\n",
      "Number of test data - 10000\n"
     ]
    }
   ],
   "source": [
    "print(\"Number of train data - \"  +str(len(x_train)))\n",
    "print(\"Number of test data - \"   +str(len(x_test)))"
   ]
  },
  {
   "cell_type": "code",
   "execution_count": 53,
   "id": "1df4ee34",
   "metadata": {},
   "outputs": [
    {
     "name": "stdout",
     "output_type": "stream",
     "text": [
      "x_train shape: (55000, 28, 28, 1) y_train shape: (55000, 10)\n",
      "55000 train set\n",
      "5000 validation set\n",
      "10000 test set\n"
     ]
    }
   ],
   "source": [
    "(x_train,x_valid)=x_train[5000:],x_train[:5000]\n",
    "(y_train,y_valid)=y_train[5000:],y_train[:5000]\n",
    "w,h=28,28\n",
    "x_train=x_train.reshape(x_train.shape[0],w,h,1)\n",
    "x_valid=x_valid.reshape(x_valid.shape[0],w,h,1)\n",
    "x_test=x_test.reshape(x_test.shape[0],w,h,1)\n",
    "y_train=tf.keras.utils.to_categorical(y_train,10)\n",
    "y_valid=tf.keras.utils.to_categorical(y_valid,10)\n",
    "y_test=tf.keras.utils.to_categorical(y_test,10)\n",
    "print(\"x_train shape:\",x_train.shape,\"y_train shape:\",y_train.shape)\n",
    "print(x_train.shape[0],'train set')\n",
    "print(x_valid.shape[0],'validation set')\n",
    "print(x_test.shape[0],'test set')"
   ]
  },
  {
   "cell_type": "code",
   "execution_count": 54,
   "id": "70426ab8",
   "metadata": {},
   "outputs": [
    {
     "name": "stdout",
     "output_type": "stream",
     "text": [
      "Model: \"sequential_2\"\n",
      "_________________________________________________________________\n",
      "Layer (type)                 Output Shape              Param #   \n",
      "=================================================================\n",
      "conv2d_4 (Conv2D)            (None, 28, 28, 64)        320       \n",
      "_________________________________________________________________\n",
      "max_pooling2d_4 (MaxPooling2 (None, 14, 14, 64)        0         \n",
      "_________________________________________________________________\n",
      "dropout_6 (Dropout)          (None, 14, 14, 64)        0         \n",
      "_________________________________________________________________\n",
      "conv2d_5 (Conv2D)            (None, 14, 14, 32)        8224      \n",
      "_________________________________________________________________\n",
      "max_pooling2d_5 (MaxPooling2 (None, 7, 7, 32)          0         \n",
      "_________________________________________________________________\n",
      "dropout_7 (Dropout)          (None, 7, 7, 32)          0         \n",
      "_________________________________________________________________\n",
      "flatten_2 (Flatten)          (None, 1568)              0         \n",
      "_________________________________________________________________\n",
      "dense_4 (Dense)              (None, 256)               401664    \n",
      "_________________________________________________________________\n",
      "dropout_8 (Dropout)          (None, 256)               0         \n",
      "_________________________________________________________________\n",
      "dense_5 (Dense)              (None, 10)                2570      \n",
      "=================================================================\n",
      "Total params: 412,778\n",
      "Trainable params: 412,778\n",
      "Non-trainable params: 0\n",
      "_________________________________________________________________\n"
     ]
    }
   ],
   "source": [
    "model = tf.keras.Sequential()\n",
    "model.add(tf.keras.layers.Conv2D(filters=64,kernel_size=2,padding='same',activation=\"relu\",input_shape=(28,28,1)))\n",
    "model.add(tf.keras.layers.MaxPooling2D(pool_size=2))\n",
    "model.add(tf.keras.layers.Dropout(0.25))\n",
    "\n",
    "model.add(tf.keras.layers.Conv2D(filters=32,kernel_size=2,padding='same',activation=\"relu\"))\n",
    "model.add(tf.keras.layers.MaxPooling2D(pool_size=2))\n",
    "model.add(tf.keras.layers.Dropout(0.25))\n",
    "\n",
    "model.add(tf.keras.layers.Flatten())\n",
    "model.add(tf.keras.layers.Dense(256,activation=\"relu\"))\n",
    "model.add(tf.keras.layers.Dropout(0.5))\n",
    "model.add(tf.keras.layers.Dense(10,activation='softmax'))\n",
    "model.summary()"
   ]
  },
  {
   "cell_type": "code",
   "execution_count": 55,
   "id": "33deeae8",
   "metadata": {},
   "outputs": [],
   "source": [
    "model.compile(loss='categorical_crossentropy',optimizer='adam',\n",
    "               metrics=['accuracy'])"
   ]
  },
  {
   "cell_type": "code",
   "execution_count": 56,
   "id": "25929d83",
   "metadata": {
    "scrolled": true
   },
   "outputs": [
    {
     "name": "stdout",
     "output_type": "stream",
     "text": [
      "Epoch 1/15\n",
      "5500/5500 [==============================] - 460s 83ms/step - loss: 0.5263 - accuracy: 0.8085 - val_loss: 0.3128 - val_accuracy: 0.8874\n",
      "\n",
      "Epoch 00001: val_loss improved from inf to 0.31275, saving model to model.weights.best.hdf5\n",
      "Epoch 2/15\n",
      "5500/5500 [==============================] - 442s 80ms/step - loss: 0.3732 - accuracy: 0.8657 - val_loss: 0.2928 - val_accuracy: 0.8926\n",
      "\n",
      "Epoch 00002: val_loss improved from 0.31275 to 0.29281, saving model to model.weights.best.hdf5\n",
      "Epoch 3/15\n",
      "5500/5500 [==============================] - 403s 73ms/step - loss: 0.3323 - accuracy: 0.8795 - val_loss: 0.2600 - val_accuracy: 0.9012\n",
      "\n",
      "Epoch 00003: val_loss improved from 0.29281 to 0.25997, saving model to model.weights.best.hdf5\n",
      "Epoch 4/15\n",
      "5500/5500 [==============================] - 396s 72ms/step - loss: 0.3152 - accuracy: 0.8852 - val_loss: 0.2705 - val_accuracy: 0.9040\n",
      "\n",
      "Epoch 00004: val_loss did not improve from 0.25997\n",
      "Epoch 5/15\n",
      "5500/5500 [==============================] - 402s 73ms/step - loss: 0.2994 - accuracy: 0.8895 - val_loss: 0.2431 - val_accuracy: 0.9084\n",
      "\n",
      "Epoch 00005: val_loss improved from 0.25997 to 0.24312, saving model to model.weights.best.hdf5\n",
      "Epoch 6/15\n",
      "5500/5500 [==============================] - 394s 72ms/step - loss: 0.2900 - accuracy: 0.8945 - val_loss: 0.2348 - val_accuracy: 0.9114\n",
      "\n",
      "Epoch 00006: val_loss improved from 0.24312 to 0.23476, saving model to model.weights.best.hdf5\n",
      "Epoch 7/15\n",
      "5500/5500 [==============================] - 411s 75ms/step - loss: 0.2809 - accuracy: 0.8970 - val_loss: 0.2327 - val_accuracy: 0.9130\n",
      "\n",
      "Epoch 00007: val_loss improved from 0.23476 to 0.23269, saving model to model.weights.best.hdf5\n",
      "Epoch 8/15\n",
      "5500/5500 [==============================] - 431s 78ms/step - loss: 0.2770 - accuracy: 0.8970 - val_loss: 0.2315 - val_accuracy: 0.9154\n",
      "\n",
      "Epoch 00008: val_loss improved from 0.23269 to 0.23155, saving model to model.weights.best.hdf5\n",
      "Epoch 9/15\n",
      "5500/5500 [==============================] - 420s 76ms/step - loss: 0.2692 - accuracy: 0.9011 - val_loss: 0.2297 - val_accuracy: 0.9144\n",
      "\n",
      "Epoch 00009: val_loss improved from 0.23155 to 0.22972, saving model to model.weights.best.hdf5\n",
      "Epoch 10/15\n",
      "5500/5500 [==============================] - 433s 79ms/step - loss: 0.2606 - accuracy: 0.9040 - val_loss: 0.2315 - val_accuracy: 0.9144\n",
      "\n",
      "Epoch 00010: val_loss did not improve from 0.22972\n",
      "Epoch 11/15\n",
      "5500/5500 [==============================] - 437s 79ms/step - loss: 0.2606 - accuracy: 0.9047 - val_loss: 0.2410 - val_accuracy: 0.9112\n",
      "\n",
      "Epoch 00011: val_loss did not improve from 0.22972\n",
      "Epoch 12/15\n",
      "5500/5500 [==============================] - 435s 79ms/step - loss: 0.2629 - accuracy: 0.9038 - val_loss: 0.2208 - val_accuracy: 0.9178\n",
      "\n",
      "Epoch 00012: val_loss improved from 0.22972 to 0.22078, saving model to model.weights.best.hdf5\n",
      "Epoch 13/15\n",
      "5500/5500 [==============================] - 432s 79ms/step - loss: 0.2543 - accuracy: 0.9072 - val_loss: 0.2313 - val_accuracy: 0.9130\n",
      "\n",
      "Epoch 00013: val_loss did not improve from 0.22078\n",
      "Epoch 14/15\n",
      "5500/5500 [==============================] - 431s 78ms/step - loss: 0.2544 - accuracy: 0.9078 - val_loss: 0.2219 - val_accuracy: 0.9188\n",
      "\n",
      "Epoch 00014: val_loss did not improve from 0.22078\n",
      "Epoch 15/15\n",
      "5500/5500 [==============================] - 433s 79ms/step - loss: 0.2500 - accuracy: 0.9082 - val_loss: 0.2320 - val_accuracy: 0.9152\n",
      "\n",
      "Epoch 00015: val_loss did not improve from 0.22078\n"
     ]
    },
    {
     "data": {
      "text/plain": [
       "<tensorflow.python.keras.callbacks.History at 0x1c4a5b96730>"
      ]
     },
     "execution_count": 56,
     "metadata": {},
     "output_type": "execute_result"
    }
   ],
   "source": [
    "from keras.callbacks import ModelCheckpoint\n",
    "checkpointer=ModelCheckpoint(filepath='model.weights.best.hdf5',verbose=1,save_best_only=True)\n",
    "model.fit(x_train,y_train,batch_size=10,epochs=15,validation_data=(x_valid,y_valid)\n",
    "              ,callbacks=[checkpointer])\n",
    "\n",
    "    "
   ]
  },
  {
   "cell_type": "code",
   "execution_count": 57,
   "id": "f422ebb9",
   "metadata": {},
   "outputs": [],
   "source": [
    "model.load_weights('model.weights.best.hdf5')"
   ]
  },
  {
   "cell_type": "code",
   "execution_count": 58,
   "id": "91230b33",
   "metadata": {},
   "outputs": [
    {
     "name": "stdout",
     "output_type": "stream",
     "text": [
      "\n",
      " Test accuracy: 0.9154999852180481\n"
     ]
    }
   ],
   "source": [
    "score=model.evaluate(x_test,y_test,verbose=0)\n",
    "print('\\n','Test accuracy:',score[1])"
   ]
  },
  {
   "cell_type": "code",
   "execution_count": 59,
   "id": "4fa74181",
   "metadata": {},
   "outputs": [
    {
     "data": {
      "image/png": "[encoded data removed]",
      "text/plain": [
       "<Figure size 1440x576 with 15 Axes>"
      ]
     },
     "metadata": {},
     "output_type": "display_data"
    }
   ],
   "source": [
    "y_hat=model.predict(x_test)\n",
    "\n",
    "# plot a random sample of 10 test iamges,their predict labels and ground truth\n",
    "figure=plt.figure(figsize=(20,8))\n",
    "for i,index in enumerate(np.random.choice(x_test.shape[0],size=15,replace=False)):\n",
    "    ax=figure.add_subplot(3,5,i+1,xticks=[],yticks=[])\n",
    "    #  Display each image\n",
    "    ax.imshow(np.squeeze(x_test[index]))\n",
    "    predict_index=np.argmax(y_hat[index])\n",
    "    true_index=np.argmax(y_test[index])\n",
    "    #  Set the title for each image\n",
    "    ax.set_title(\"{} ({})\".format(fashion_mnist_labels[predict_index],fashion_mnist_labels[true_index]),color=(\"green\" if predict_index ==true_index else \"red\"))"
   ]
  },
  {
   "cell_type": "code",
   "execution_count": null,
   "id": "68eeea2b",
   "metadata": {},
   "outputs": [],
   "source": []
  },
  {
   "cell_type": "code",
   "execution_count": null,
   "id": "3a79a9c3",
   "metadata": {},
   "outputs": [],
   "source": []
  }
 ],
 "metadata": {
  "kernelspec": {
   "display_name": "Python 3",
   "language": "python",
   "name": "python3"
  },
  "language_info": {
   "codemirror_mode": {
    "name": "ipython",
    "version": 3
   },
   "file_extension": ".py",
   "mimetype": "text/x-python",
   "name": "python",
   "nbconvert_exporter": "python",
   "pygments_lexer": "ipython3",
   "version": "3.8.8"
  }
 },
 "nbformat": 4,
 "nbformat_minor": 5
}
